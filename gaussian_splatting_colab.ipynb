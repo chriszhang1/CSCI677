{
  "cells": [
    {
      "cell_type": "markdown",
      "metadata": {
        "id": "view-in-github",
        "colab_type": "text"
      },
      "source": [
        "<a href=\"https://colab.research.google.com/github/chriszhang1/CSCI677/blob/main/gaussian_splatting_colab.ipynb\" target=\"_parent\"><img src=\"https://colab.research.google.com/assets/colab-badge.svg\" alt=\"Open In Colab\"/></a>"
      ]
    },
    {
      "cell_type": "code",
      "source": [
        "from google.colab import drive\n",
        "drive.mount('/content/drive')"
      ],
      "metadata": {
        "colab": {
          "base_uri": "https://localhost:8080/"
        },
        "id": "XPGt7RBtuVd_",
        "outputId": "34f97e17-a773-4792-ccd9-287d89bbe527"
      },
      "execution_count": 2,
      "outputs": [
        {
          "output_type": "stream",
          "name": "stdout",
          "text": [
            "Mounted at /content/drive\n"
          ]
        }
      ]
    },
    {
      "cell_type": "code",
      "execution_count": 1,
      "metadata": {
        "id": "VjYy0F2gZIPR",
        "collapsed": true,
        "colab": {
          "base_uri": "https://localhost:8080/"
        },
        "outputId": "73937bbc-e6eb-4fe7-9270-7b098de860b5"
      },
      "outputs": [
        {
          "output_type": "stream",
          "name": "stdout",
          "text": [
            "/content\n",
            "Cloning into 'gaussian-splatting'...\n",
            "remote: Enumerating objects: 1053, done.\u001b[K\n",
            "remote: Counting objects: 100% (193/193), done.\u001b[K\n",
            "remote: Compressing objects: 100% (77/77), done.\u001b[K\n",
            "remote: Total 1053 (delta 116), reused 185 (delta 114), pack-reused 860 (from 1)\u001b[K\n",
            "Receiving objects: 100% (1053/1053), 78.70 MiB | 13.97 MiB/s, done.\n",
            "Resolving deltas: 100% (608/608), done.\n",
            "Submodule 'SIBR_viewers' (https://gitlab.inria.fr/sibr/sibr_core.git) registered for path 'SIBR_viewers'\n",
            "Submodule 'submodules/diff-gaussian-rasterization' (https://github.com/graphdeco-inria/diff-gaussian-rasterization.git) registered for path 'submodules/diff-gaussian-rasterization'\n",
            "Submodule 'submodules/fused-ssim' (https://github.com/rahul-goel/fused-ssim.git) registered for path 'submodules/fused-ssim'\n",
            "Submodule 'submodules/simple-knn' (https://gitlab.inria.fr/bkerbl/simple-knn.git) registered for path 'submodules/simple-knn'\n",
            "Cloning into '/content/gaussian-splatting/SIBR_viewers'...\n",
            "remote: Enumerating objects: 3293, done.        \n",
            "remote: Counting objects: 100% (322/322), done.        \n",
            "remote: Compressing objects: 100% (174/174), done.        \n",
            "remote: Total 3293 (delta 171), reused 280 (delta 148), pack-reused 2971 (from 1)        \n",
            "Receiving objects: 100% (3293/3293), 9.98 MiB | 5.32 MiB/s, done.\n",
            "Resolving deltas: 100% (2039/2039), done.\n",
            "Cloning into '/content/gaussian-splatting/submodules/diff-gaussian-rasterization'...\n",
            "remote: Enumerating objects: 329, done.        \n",
            "remote: Total 329 (delta 0), reused 0 (delta 0), pack-reused 329 (from 1)        \n",
            "Receiving objects: 100% (329/329), 111.68 KiB | 22.34 MiB/s, done.\n",
            "Resolving deltas: 100% (216/216), done.\n",
            "Cloning into '/content/gaussian-splatting/submodules/fused-ssim'...\n",
            "remote: Enumerating objects: 220, done.        \n",
            "remote: Counting objects: 100% (86/86), done.        \n",
            "remote: Compressing objects: 100% (38/38), done.        \n",
            "remote: Total 220 (delta 61), reused 48 (delta 48), pack-reused 134 (from 1)        \n",
            "Receiving objects: 100% (220/220), 5.80 MiB | 23.38 MiB/s, done.\n",
            "Resolving deltas: 100% (112/112), done.\n",
            "Cloning into '/content/gaussian-splatting/submodules/simple-knn'...\n",
            "remote: Enumerating objects: 37, done.        \n",
            "remote: Counting objects: 100% (37/37), done.        \n",
            "remote: Compressing objects: 100% (34/34), done.        \n",
            "remote: Total 37 (delta 18), reused 0 (delta 0), pack-reused 0 (from 0)        \n",
            "Receiving objects: 100% (37/37), 9.46 KiB | 9.46 MiB/s, done.\n",
            "Resolving deltas: 100% (18/18), done.\n",
            "Submodule path 'SIBR_viewers': checked out 'd8856f60c5384cc1975439193bb627d77d917d77'\n",
            "Submodule path 'submodules/diff-gaussian-rasterization': checked out '9c5c2028f6fbee2be239bc4c9421ff894fe4fbe0'\n",
            "Submodule 'third_party/glm' (https://github.com/g-truc/glm.git) registered for path 'submodules/diff-gaussian-rasterization/third_party/glm'\n",
            "Cloning into '/content/gaussian-splatting/submodules/diff-gaussian-rasterization/third_party/glm'...\n",
            "remote: Enumerating objects: 60354, done.        \n",
            "remote: Counting objects: 100% (442/442), done.        \n",
            "remote: Compressing objects: 100% (287/287), done.        \n",
            "remote: Total 60354 (delta 292), reused 173 (delta 155), pack-reused 59912 (from 3)        \n",
            "Receiving objects: 100% (60354/60354), 72.87 MiB | 17.50 MiB/s, done.\n",
            "Resolving deltas: 100% (45778/45778), done.\n",
            "Submodule path 'submodules/diff-gaussian-rasterization/third_party/glm': checked out '5c46b9c07008ae65cb81ab79cd677ecc1934b903'\n",
            "Submodule path 'submodules/fused-ssim': checked out '1272e21a282342e89537159e4bad508b19b34157'\n",
            "Submodule path 'submodules/simple-knn': checked out '86710c2d4b46680c02301765dd79e465819c8f19'\n",
            "\u001b[2K     \u001b[90m━━━━━━━━━━━━━━━━━━━━━━━━━━━━━━━━━━━━━━━━\u001b[0m \u001b[32m43.3/43.3 kB\u001b[0m \u001b[31m3.8 MB/s\u001b[0m eta \u001b[36m0:00:00\u001b[0m\n",
            "\u001b[?25h/content/gaussian-splatting\n",
            "  Preparing metadata (setup.py) ... \u001b[?25l\u001b[?25hdone\n",
            "  Building wheel for diff_gaussian_rasterization (setup.py) ... \u001b[?25l\u001b[?25hdone\n",
            "  Preparing metadata (setup.py) ... \u001b[?25l\u001b[?25hdone\n",
            "  Building wheel for simple_knn (setup.py) ... \u001b[?25l\u001b[?25hdone\n"
          ]
        }
      ],
      "source": [
        "%cd /content\n",
        "!git clone https://github.com/graphdeco-inria/gaussian-splatting --recursive\n",
        "!pip install -q plyfile\n",
        "\n",
        "%cd /content/gaussian-splatting\n",
        "!pip install -q /content/gaussian-splatting/submodules/diff-gaussian-rasterization\n",
        "!pip install -q /content/gaussian-splatting/submodules/simple-knn\n"
      ]
    },
    {
      "cell_type": "code",
      "source": [
        "!python train.py -s /content/drive/MyDrive/gs_data_15 -m /content/drive/MyDrive/output_15_7k --iterations 7000 --eval"
      ],
      "metadata": {
        "colab": {
          "base_uri": "https://localhost:8080/"
        },
        "collapsed": true,
        "id": "WUwQj3jcwyFs",
        "outputId": "d6249f9a-7860-4943-863a-15940200751b"
      },
      "execution_count": 8,
      "outputs": [
        {
          "output_type": "stream",
          "name": "stdout",
          "text": [
            "2025-10-19 04:45:54.135008: I tensorflow/core/util/port.cc:153] oneDNN custom operations are on. You may see slightly different numerical results due to floating-point round-off errors from different computation orders. To turn them off, set the environment variable `TF_ENABLE_ONEDNN_OPTS=0`.\n",
            "2025-10-19 04:45:54.152694: E external/local_xla/xla/stream_executor/cuda/cuda_fft.cc:467] Unable to register cuFFT factory: Attempting to register factory for plugin cuFFT when one has already been registered\n",
            "WARNING: All log messages before absl::InitializeLog() is called are written to STDERR\n",
            "E0000 00:00:1760849154.174002   11593 cuda_dnn.cc:8579] Unable to register cuDNN factory: Attempting to register factory for plugin cuDNN when one has already been registered\n",
            "E0000 00:00:1760849154.180481   11593 cuda_blas.cc:1407] Unable to register cuBLAS factory: Attempting to register factory for plugin cuBLAS when one has already been registered\n",
            "W0000 00:00:1760849154.197259   11593 computation_placer.cc:177] computation placer already registered. Please check linkage and avoid linking the same target more than once.\n",
            "W0000 00:00:1760849154.197305   11593 computation_placer.cc:177] computation placer already registered. Please check linkage and avoid linking the same target more than once.\n",
            "W0000 00:00:1760849154.197308   11593 computation_placer.cc:177] computation placer already registered. Please check linkage and avoid linking the same target more than once.\n",
            "W0000 00:00:1760849154.197311   11593 computation_placer.cc:177] computation placer already registered. Please check linkage and avoid linking the same target more than once.\n",
            "2025-10-19 04:45:54.202427: I tensorflow/core/platform/cpu_feature_guard.cc:210] This TensorFlow binary is optimized to use available CPU instructions in performance-critical operations.\n",
            "To enable the following instructions: AVX2 AVX512F AVX512_VNNI FMA, in other operations, rebuild TensorFlow with the appropriate compiler flags.\n",
            "Optimizing /content/drive/MyDrive/output_15_7k\n",
            "Output folder: /content/drive/MyDrive/output_15_7k [19/10 04:45:58]\n",
            "['005.jpg', '010.jpg', '015.jpg'] [19/10 04:45:59]\n",
            "Reading camera 15/15 [19/10 04:45:59]\n",
            "Loading Training Cameras [19/10 04:45:59]\n",
            "[ INFO ] Encountered quite large input images (>1.6K pixels width), rescaling to 1.6K.\n",
            " If this is not desired, please explicitly specify '--resolution/-r' as 1 [19/10 04:45:59]\n",
            "Loading Test Cameras [19/10 04:46:04]\n",
            "Number of points at initialisation :  6930 [19/10 04:46:05]\n",
            "Training progress: 100% 7000/7000 [04:41<00:00, 24.91it/s, Loss=0.0306122, Depth Loss=0.0000000]\n",
            "\n",
            "[ITER 7000] Evaluating test: L1 0.06369335949420929 PSNR 19.455931345621742 [19/10 04:50:53]\n",
            "\n",
            "[ITER 7000] Evaluating train: L1 0.018079938553273677 PSNR 30.78000946044922 [19/10 04:51:04]\n",
            "\n",
            "[ITER 7000] Saving Gaussians [19/10 04:51:04]\n",
            "\n",
            "Training complete. [19/10 04:51:20]\n"
          ]
        }
      ]
    },
    {
      "cell_type": "code",
      "source": [
        "!python render.py -m /content/drive/MyDrive/output_15_7k --skip_train"
      ],
      "metadata": {
        "colab": {
          "base_uri": "https://localhost:8080/"
        },
        "collapsed": true,
        "id": "nH2MTPlWxs5a",
        "outputId": "3dd9da53-72ae-461d-b297-3b016a3cdee9"
      },
      "execution_count": 9,
      "outputs": [
        {
          "output_type": "stream",
          "name": "stdout",
          "text": [
            "Looking for config file in /content/drive/MyDrive/output_15_7k/cfg_args\n",
            "Config file found: /content/drive/MyDrive/output_15_7k/cfg_args\n",
            "Rendering /content/drive/MyDrive/output_15_7k\n",
            "Loading trained model at iteration 7000 [19/10 04:54:30]\n",
            "['005.jpg', '010.jpg', '015.jpg'] [19/10 04:54:30]\n",
            "Reading camera 15/15 [19/10 04:54:30]\n",
            "Loading Training Cameras [19/10 04:54:30]\n",
            "[ INFO ] Encountered quite large input images (>1.6K pixels width), rescaling to 1.6K.\n",
            " If this is not desired, please explicitly specify '--resolution/-r' as 1 [19/10 04:54:30]\n",
            "Loading Test Cameras [19/10 04:54:35]\n",
            "Rendering progress: 100% 3/3 [00:03<00:00,  1.28s/it]\n"
          ]
        }
      ]
    },
    {
      "cell_type": "code",
      "source": [
        "!python metrics.py -m /content/drive/MyDrive/output_15_7k"
      ],
      "metadata": {
        "id": "cEJsArJkFn3O",
        "outputId": "bd57d233-a390-4323-8f44-4e34a9b5e581",
        "colab": {
          "base_uri": "https://localhost:8080/"
        }
      },
      "execution_count": 18,
      "outputs": [
        {
          "output_type": "stream",
          "name": "stdout",
          "text": [
            "\n",
            "Scene: /content/drive/MyDrive/output_15_7k\n",
            "Method: ours_7000\n",
            "Metric evaluation progress: 100% 3/3 [00:04<00:00,  1.49s/it]\n",
            "  SSIM :    0.6456125\n",
            "  PSNR :   19.4231548\n",
            "  LPIPS:    0.2658319\n",
            "\n"
          ]
        }
      ]
    },
    {
      "cell_type": "code",
      "source": [
        "!python train.py -s /content/drive/MyDrive/gs_data_15 -m /content/drive/MyDrive/output_15_30k --iterations 30000 --eval"
      ],
      "metadata": {
        "colab": {
          "base_uri": "https://localhost:8080/"
        },
        "collapsed": true,
        "id": "-122V0Ge6uMB",
        "outputId": "561ae2f8-2e25-4d34-dba7-81d74edf081e"
      },
      "execution_count": 14,
      "outputs": [
        {
          "output_type": "stream",
          "name": "stdout",
          "text": [
            "2025-10-19 05:33:25.918257: I tensorflow/core/util/port.cc:153] oneDNN custom operations are on. You may see slightly different numerical results due to floating-point round-off errors from different computation orders. To turn them off, set the environment variable `TF_ENABLE_ONEDNN_OPTS=0`.\n",
            "2025-10-19 05:33:25.935782: E external/local_xla/xla/stream_executor/cuda/cuda_fft.cc:467] Unable to register cuFFT factory: Attempting to register factory for plugin cuFFT when one has already been registered\n",
            "WARNING: All log messages before absl::InitializeLog() is called are written to STDERR\n",
            "E0000 00:00:1760852005.957512   23988 cuda_dnn.cc:8579] Unable to register cuDNN factory: Attempting to register factory for plugin cuDNN when one has already been registered\n",
            "E0000 00:00:1760852005.963977   23988 cuda_blas.cc:1407] Unable to register cuBLAS factory: Attempting to register factory for plugin cuBLAS when one has already been registered\n",
            "W0000 00:00:1760852005.980562   23988 computation_placer.cc:177] computation placer already registered. Please check linkage and avoid linking the same target more than once.\n",
            "W0000 00:00:1760852005.980604   23988 computation_placer.cc:177] computation placer already registered. Please check linkage and avoid linking the same target more than once.\n",
            "W0000 00:00:1760852005.980607   23988 computation_placer.cc:177] computation placer already registered. Please check linkage and avoid linking the same target more than once.\n",
            "W0000 00:00:1760852005.980610   23988 computation_placer.cc:177] computation placer already registered. Please check linkage and avoid linking the same target more than once.\n",
            "2025-10-19 05:33:25.985492: I tensorflow/core/platform/cpu_feature_guard.cc:210] This TensorFlow binary is optimized to use available CPU instructions in performance-critical operations.\n",
            "To enable the following instructions: AVX2 AVX512F AVX512_VNNI FMA, in other operations, rebuild TensorFlow with the appropriate compiler flags.\n",
            "Optimizing /content/drive/MyDrive/output_15_30k\n",
            "Output folder: /content/drive/MyDrive/output_15_30k [19/10 05:33:29]\n",
            "['005.jpg', '010.jpg', '015.jpg'] [19/10 05:33:30]\n",
            "Reading camera 15/15 [19/10 05:33:30]\n",
            "Loading Training Cameras [19/10 05:33:30]\n",
            "[ INFO ] Encountered quite large input images (>1.6K pixels width), rescaling to 1.6K.\n",
            " If this is not desired, please explicitly specify '--resolution/-r' as 1 [19/10 05:33:30]\n",
            "Loading Test Cameras [19/10 05:33:35]\n",
            "Number of points at initialisation :  6930 [19/10 05:33:36]\n",
            "Training progress:  23% 7000/30000 [04:37<17:16, 22.18it/s, Loss=0.0298632, Depth Loss=0.0000000]\n",
            "[ITER 7000] Evaluating test: L1 0.0626646913588047 PSNR 19.630751291910805 [19/10 05:38:21]\n",
            "Training progress:  23% 7000/30000 [04:50<17:16, 22.18it/s, Loss=0.0298632, Depth Loss=0.0000000]\n",
            "[ITER 7000] Evaluating train: L1 0.017740962468087675 PSNR 31.122778320312502 [19/10 05:38:31]\n",
            "\n",
            "[ITER 7000] Saving Gaussians [19/10 05:38:32]\n",
            "Training progress: 100% 30000/30000 [22:40<00:00, 22.06it/s, Loss=0.0165736, Depth Loss=0.0000000]\n",
            "\n",
            "[ITER 30000] Evaluating test: L1 0.06507530435919762 PSNR 19.178963343302406 [19/10 05:56:20]\n",
            "\n",
            "[ITER 30000] Evaluating train: L1 0.010965705662965775 PSNR 35.13385696411133 [19/10 05:56:26]\n",
            "\n",
            "[ITER 30000] Saving Gaussians [19/10 05:56:26]\n",
            "\n",
            "Training complete. [19/10 05:56:42]\n"
          ]
        }
      ]
    },
    {
      "cell_type": "code",
      "source": [
        "!python render.py -m /content/drive/MyDrive/output_15_30k --skip_train"
      ],
      "metadata": {
        "colab": {
          "base_uri": "https://localhost:8080/"
        },
        "collapsed": true,
        "id": "rR9PfcQi6zIW",
        "outputId": "0e68a475-a273-439e-c73c-fb11ed1693fc"
      },
      "execution_count": 15,
      "outputs": [
        {
          "output_type": "stream",
          "name": "stdout",
          "text": [
            "Looking for config file in /content/drive/MyDrive/output_15_30k/cfg_args\n",
            "Config file found: /content/drive/MyDrive/output_15_30k/cfg_args\n",
            "Rendering /content/drive/MyDrive/output_15_30k\n",
            "Loading trained model at iteration 30000 [19/10 05:57:54]\n",
            "['005.jpg', '010.jpg', '015.jpg'] [19/10 05:57:54]\n",
            "\rReading camera 1/15\rReading camera 2/15\rReading camera 3/15\rReading camera 4/15\rReading camera 5/15\rReading camera 6/15\rReading camera 7/15\rReading camera 8/15\rReading camera 9/15\rReading camera 10/15\rReading camera 11/15\rReading camera 12/15\rReading camera 13/15\rReading camera 14/15\rReading camera 15/15 [19/10 05:57:54]\n",
            "Loading Training Cameras [19/10 05:57:54]\n",
            "[ INFO ] Encountered quite large input images (>1.6K pixels width), rescaling to 1.6K.\n",
            " If this is not desired, please explicitly specify '--resolution/-r' as 1 [19/10 05:57:54]\n",
            "Loading Test Cameras [19/10 05:57:59]\n",
            "Rendering progress: 100% 3/3 [00:03<00:00,  1.23s/it]\n"
          ]
        }
      ]
    },
    {
      "cell_type": "code",
      "source": [
        "!python metrics.py -m /content/drive/MyDrive/output_15_30k"
      ],
      "metadata": {
        "id": "z_s7Vr23F5JY",
        "outputId": "af0bd768-87c0-4842-8b6e-49b213b1844d",
        "colab": {
          "base_uri": "https://localhost:8080/"
        }
      },
      "execution_count": 19,
      "outputs": [
        {
          "output_type": "stream",
          "name": "stdout",
          "text": [
            "\n",
            "Scene: /content/drive/MyDrive/output_15_30k\n",
            "Method: ours_30000\n",
            "Metric evaluation progress: 100% 3/3 [00:04<00:00,  1.49s/it]\n",
            "  SSIM :    0.6331940\n",
            "  PSNR :   19.1494198\n",
            "  LPIPS:    0.2602255\n",
            "\n"
          ]
        }
      ]
    },
    {
      "cell_type": "code",
      "source": [
        "!python train.py -s /content/drive/MyDrive/gs_data_30 -m /content/drive/MyDrive/output_30_7k --iterations 7000 --eval"
      ],
      "metadata": {
        "colab": {
          "base_uri": "https://localhost:8080/"
        },
        "collapsed": true,
        "id": "lnrn7DaI62Wc",
        "outputId": "9c913fbc-161b-40cf-c4bd-59ea6874f532"
      },
      "execution_count": 12,
      "outputs": [
        {
          "output_type": "stream",
          "name": "stdout",
          "text": [
            "2025-10-19 05:25:32.929024: I tensorflow/core/util/port.cc:153] oneDNN custom operations are on. You may see slightly different numerical results due to floating-point round-off errors from different computation orders. To turn them off, set the environment variable `TF_ENABLE_ONEDNN_OPTS=0`.\n",
            "2025-10-19 05:25:32.946260: E external/local_xla/xla/stream_executor/cuda/cuda_fft.cc:467] Unable to register cuFFT factory: Attempting to register factory for plugin cuFFT when one has already been registered\n",
            "WARNING: All log messages before absl::InitializeLog() is called are written to STDERR\n",
            "E0000 00:00:1760851532.967562   21916 cuda_dnn.cc:8579] Unable to register cuDNN factory: Attempting to register factory for plugin cuDNN when one has already been registered\n",
            "E0000 00:00:1760851532.974057   21916 cuda_blas.cc:1407] Unable to register cuBLAS factory: Attempting to register factory for plugin cuBLAS when one has already been registered\n",
            "W0000 00:00:1760851532.990526   21916 computation_placer.cc:177] computation placer already registered. Please check linkage and avoid linking the same target more than once.\n",
            "W0000 00:00:1760851532.990561   21916 computation_placer.cc:177] computation placer already registered. Please check linkage and avoid linking the same target more than once.\n",
            "W0000 00:00:1760851532.990564   21916 computation_placer.cc:177] computation placer already registered. Please check linkage and avoid linking the same target more than once.\n",
            "W0000 00:00:1760851532.990567   21916 computation_placer.cc:177] computation placer already registered. Please check linkage and avoid linking the same target more than once.\n",
            "2025-10-19 05:25:32.995295: I tensorflow/core/platform/cpu_feature_guard.cc:210] This TensorFlow binary is optimized to use available CPU instructions in performance-critical operations.\n",
            "To enable the following instructions: AVX2 AVX512F AVX512_VNNI FMA, in other operations, rebuild TensorFlow with the appropriate compiler flags.\n",
            "Optimizing /content/drive/MyDrive/output_30_7k\n",
            "Output folder: /content/drive/MyDrive/output_30_7k [19/10 05:25:36]\n",
            "['010.jpg', '020.jpg', '030.jpg'] [19/10 05:25:37]\n",
            "Reading camera 30/30 [19/10 05:25:37]\n",
            "Loading Training Cameras [19/10 05:25:37]\n",
            "[ INFO ] Encountered quite large input images (>1.6K pixels width), rescaling to 1.6K.\n",
            " If this is not desired, please explicitly specify '--resolution/-r' as 1 [19/10 05:25:37]\n",
            "Loading Test Cameras [19/10 05:25:47]\n",
            "Number of points at initialisation :  17024 [19/10 05:25:49]\n",
            "Training progress: 100% 7000/7000 [04:58<00:00, 23.44it/s, Loss=0.0429758, Depth Loss=0.0000000]\n",
            "\n",
            "[ITER 7000] Evaluating test: L1 0.05426862339178721 PSNR 20.61440086364746 [19/10 05:30:55]\n",
            "\n",
            "[ITER 7000] Evaluating train: L1 0.022809772565960885 PSNR 28.971239852905274 [19/10 05:31:05]\n",
            "\n",
            "[ITER 7000] Saving Gaussians [19/10 05:31:06]\n",
            "\n",
            "Training complete. [19/10 05:31:27]\n"
          ]
        }
      ]
    },
    {
      "cell_type": "code",
      "source": [
        "!python render.py -m /content/drive/MyDrive/output_30_7k --skip_train"
      ],
      "metadata": {
        "colab": {
          "base_uri": "https://localhost:8080/"
        },
        "collapsed": true,
        "id": "EKZ12nlY62tz",
        "outputId": "36057fed-e930-42e6-e800-c4c8e46e4228"
      },
      "execution_count": 13,
      "outputs": [
        {
          "output_type": "stream",
          "name": "stdout",
          "text": [
            "Looking for config file in /content/drive/MyDrive/output_30_7k/cfg_args\n",
            "Config file found: /content/drive/MyDrive/output_30_7k/cfg_args\n",
            "Rendering /content/drive/MyDrive/output_30_7k\n",
            "Loading trained model at iteration 7000 [19/10 05:31:49]\n",
            "['010.jpg', '020.jpg', '030.jpg'] [19/10 05:31:49]\n",
            "Reading camera 30/30 [19/10 05:31:49]\n",
            "Loading Training Cameras [19/10 05:31:49]\n",
            "[ INFO ] Encountered quite large input images (>1.6K pixels width), rescaling to 1.6K.\n",
            " If this is not desired, please explicitly specify '--resolution/-r' as 1 [19/10 05:31:49]\n",
            "Loading Test Cameras [19/10 05:32:00]\n",
            "Rendering progress: 100% 3/3 [00:03<00:00,  1.28s/it]\n"
          ]
        }
      ]
    },
    {
      "cell_type": "code",
      "source": [
        "!python metrics.py -m /content/drive/MyDrive/output_30_7k"
      ],
      "metadata": {
        "id": "g3VHg0bEGCix",
        "outputId": "c405aaae-a02e-4ecf-a851-b9b8c90c115d",
        "colab": {
          "base_uri": "https://localhost:8080/"
        }
      },
      "execution_count": 21,
      "outputs": [
        {
          "output_type": "stream",
          "name": "stdout",
          "text": [
            "\n",
            "Scene: /content/drive/MyDrive/output_30_7k\n",
            "Method: ours_7000\n",
            "Metric evaluation progress: 100% 3/3 [00:04<00:00,  1.48s/it]\n",
            "  SSIM :    0.6681923\n",
            "  PSNR :   20.6065655\n",
            "  LPIPS:    0.2558039\n",
            "\n"
          ]
        }
      ]
    },
    {
      "cell_type": "code",
      "source": [
        "!python train.py -s /content/drive/MyDrive/gs_data_30 -m /content/drive/MyDrive/output_30_30k --iterations 30000 --eval"
      ],
      "metadata": {
        "colab": {
          "base_uri": "https://localhost:8080/"
        },
        "collapsed": true,
        "id": "OBEmGCAE0p6u",
        "outputId": "e1333a70-4ad9-4a44-ab12-ac9b6a60b442"
      },
      "execution_count": 10,
      "outputs": [
        {
          "output_type": "stream",
          "name": "stdout",
          "text": [
            "2025-10-19 04:55:50.168669: I tensorflow/core/util/port.cc:153] oneDNN custom operations are on. You may see slightly different numerical results due to floating-point round-off errors from different computation orders. To turn them off, set the environment variable `TF_ENABLE_ONEDNN_OPTS=0`.\n",
            "2025-10-19 04:55:50.186226: E external/local_xla/xla/stream_executor/cuda/cuda_fft.cc:467] Unable to register cuFFT factory: Attempting to register factory for plugin cuFFT when one has already been registered\n",
            "WARNING: All log messages before absl::InitializeLog() is called are written to STDERR\n",
            "E0000 00:00:1760849750.207808   14269 cuda_dnn.cc:8579] Unable to register cuDNN factory: Attempting to register factory for plugin cuDNN when one has already been registered\n",
            "E0000 00:00:1760849750.214322   14269 cuda_blas.cc:1407] Unable to register cuBLAS factory: Attempting to register factory for plugin cuBLAS when one has already been registered\n",
            "W0000 00:00:1760849750.230808   14269 computation_placer.cc:177] computation placer already registered. Please check linkage and avoid linking the same target more than once.\n",
            "W0000 00:00:1760849750.230835   14269 computation_placer.cc:177] computation placer already registered. Please check linkage and avoid linking the same target more than once.\n",
            "W0000 00:00:1760849750.230838   14269 computation_placer.cc:177] computation placer already registered. Please check linkage and avoid linking the same target more than once.\n",
            "W0000 00:00:1760849750.230840   14269 computation_placer.cc:177] computation placer already registered. Please check linkage and avoid linking the same target more than once.\n",
            "2025-10-19 04:55:50.235548: I tensorflow/core/platform/cpu_feature_guard.cc:210] This TensorFlow binary is optimized to use available CPU instructions in performance-critical operations.\n",
            "To enable the following instructions: AVX2 AVX512F AVX512_VNNI FMA, in other operations, rebuild TensorFlow with the appropriate compiler flags.\n",
            "Optimizing /content/drive/MyDrive/output_30_30k\n",
            "Output folder: /content/drive/MyDrive/output_30_30k [19/10 04:55:54]\n",
            "['010.jpg', '020.jpg', '030.jpg'] [19/10 04:55:56]\n",
            "Reading camera 30/30 [19/10 04:55:56]\n",
            "Loading Training Cameras [19/10 04:55:57]\n",
            "[ INFO ] Encountered quite large input images (>1.6K pixels width), rescaling to 1.6K.\n",
            " If this is not desired, please explicitly specify '--resolution/-r' as 1 [19/10 04:55:58]\n",
            "Loading Test Cameras [19/10 04:56:37]\n",
            "Number of points at initialisation :  17024 [19/10 04:56:41]\n",
            "Training progress:  23% 7000/30000 [04:56<20:23, 18.80it/s, Loss=0.0431841, Depth Loss=0.0000000]\n",
            "[ITER 7000] Evaluating test: L1 0.05321486170093218 PSNR 20.7885258992513 [19/10 05:01:46]\n",
            "Training progress:  23% 7000/30000 [05:10<20:23, 18.80it/s, Loss=0.0431841, Depth Loss=0.0000000]\n",
            "[ITER 7000] Evaluating train: L1 0.022908783331513406 PSNR 28.880742645263673 [19/10 05:01:56]\n",
            "\n",
            "[ITER 7000] Saving Gaussians [19/10 05:01:57]\n",
            "Training progress: 100% 30000/30000 [27:00<00:00, 18.52it/s, Loss=0.0202356, Depth Loss=0.0000000]\n",
            "\n",
            "[ITER 30000] Evaluating test: L1 0.056438042471806206 PSNR 20.117729822794594 [19/10 05:23:46]\n",
            "\n",
            "[ITER 30000] Evaluating train: L1 0.013776707462966442 PSNR 33.267842864990236 [19/10 05:23:52]\n",
            "\n",
            "[ITER 30000] Saving Gaussians [19/10 05:23:52]\n",
            "\n",
            "Training complete. [19/10 05:24:15]\n"
          ]
        }
      ]
    },
    {
      "cell_type": "code",
      "source": [
        "!python render.py -m /content/drive/MyDrive/output_30_30k --skip_train"
      ],
      "metadata": {
        "colab": {
          "base_uri": "https://localhost:8080/"
        },
        "collapsed": true,
        "id": "sMNRijpG6FCP",
        "outputId": "066fa687-49d2-494d-d90c-5ea540a8e0db"
      },
      "execution_count": 11,
      "outputs": [
        {
          "output_type": "stream",
          "name": "stdout",
          "text": [
            "Looking for config file in /content/drive/MyDrive/output_30_30k/cfg_args\n",
            "Config file found: /content/drive/MyDrive/output_30_30k/cfg_args\n",
            "Rendering /content/drive/MyDrive/output_30_30k\n",
            "Loading trained model at iteration 30000 [19/10 05:24:26]\n",
            "['010.jpg', '020.jpg', '030.jpg'] [19/10 05:24:26]\n",
            "Reading camera 30/30 [19/10 05:24:26]\n",
            "Loading Training Cameras [19/10 05:24:26]\n",
            "[ INFO ] Encountered quite large input images (>1.6K pixels width), rescaling to 1.6K.\n",
            " If this is not desired, please explicitly specify '--resolution/-r' as 1 [19/10 05:24:26]\n",
            "Loading Test Cameras [19/10 05:24:37]\n",
            "Rendering progress: 100% 3/3 [00:03<00:00,  1.22s/it]\n"
          ]
        }
      ]
    },
    {
      "cell_type": "code",
      "source": [
        "!python metrics.py -m /content/drive/MyDrive/output_30_30k"
      ],
      "metadata": {
        "id": "CyVXSbQhGPEm",
        "outputId": "e1064706-26a0-4ac6-9590-d56c030738c7",
        "colab": {
          "base_uri": "https://localhost:8080/"
        }
      },
      "execution_count": 23,
      "outputs": [
        {
          "output_type": "stream",
          "name": "stdout",
          "text": [
            "\n",
            "Scene: /content/drive/MyDrive/output_30_30k\n",
            "Method: ours_30000\n",
            "Metric evaluation progress: 100% 3/3 [00:04<00:00,  1.49s/it]\n",
            "  SSIM :    0.6607588\n",
            "  PSNR :   20.1120892\n",
            "  LPIPS:    0.2310914\n",
            "\n"
          ]
        }
      ]
    }
  ],
  "metadata": {
    "accelerator": "GPU",
    "colab": {
      "gpuType": "A100",
      "provenance": [],
      "include_colab_link": true
    },
    "kernelspec": {
      "display_name": "Python 3",
      "name": "python3"
    },
    "language_info": {
      "name": "python"
    }
  },
  "nbformat": 4,
  "nbformat_minor": 0
}